{
 "cells": [
  {
   "cell_type": "markdown",
   "metadata": {},
   "source": [
    "# Imports"
   ]
  },
  {
   "cell_type": "code",
   "execution_count": 1,
   "metadata": {},
   "outputs": [],
   "source": [
    "%matplotlib inline\n",
    "import matplotlib.pyplot as plt\n",
    "import fitbit\n",
    "import gather_keys_oauth2 as Oauth2\n",
    "import MyFitnessReport_Keys as keys\n",
    "import pandas as pd \n",
    "import datetime\n",
    "\n",
    "# TODO : Get the keys from text file and remember to GitIgnore the textfile!\n",
    "CLIENT_ID = keys.client_id\n",
    "CLIENT_SECRET = keys.client_secret"
   ]
  },
  {
   "cell_type": "markdown",
   "metadata": {},
   "source": [
    "# API Authorization "
   ]
  },
  {
   "cell_type": "code",
   "execution_count": 2,
   "metadata": {},
   "outputs": [
    {
     "name": "stderr",
     "output_type": "stream",
     "text": [
      "[04/Mar/2020:23:11:39] ENGINE Listening for SIGTERM.\n",
      "[04/Mar/2020:23:11:39] ENGINE Listening for SIGHUP.\n",
      "[04/Mar/2020:23:11:39] ENGINE Listening for SIGUSR1.\n",
      "[04/Mar/2020:23:11:39] ENGINE Bus STARTING\n",
      "CherryPy Checker:\n",
      "The Application mounted at '' has an empty config.\n",
      "\n",
      "[04/Mar/2020:23:11:39] ENGINE Started monitor thread '_TimeoutMonitor'.\n",
      "[04/Mar/2020:23:11:39] ENGINE Started monitor thread 'Autoreloader'.\n",
      "[04/Mar/2020:23:11:39] ENGINE Serving on http://127.0.0.1:8080\n",
      "[04/Mar/2020:23:11:39] ENGINE Bus STARTED\n"
     ]
    },
    {
     "name": "stdout",
     "output_type": "stream",
     "text": [
      "127.0.0.1 - - [04/Mar/2020:23:11:56] \"GET /?code=c4d97971973e5f58a41c9fe9271568ab3e3af9b3&state=6tlCMDp5K1KBo5mD0e3aKNC5QTbh1D HTTP/1.1\" 200 122 \"\" \"Mozilla/5.0 (Macintosh; Intel Mac OS X 10_15_3) AppleWebKit/537.36 (KHTML, like Gecko) Chrome/80.0.3987.122 Safari/537.36\"\n"
     ]
    },
    {
     "name": "stderr",
     "output_type": "stream",
     "text": [
      "[04/Mar/2020:23:11:57] ENGINE Bus STOPPING\n",
      "[04/Mar/2020:23:12:02] ENGINE HTTP Server cherrypy._cpwsgi_server.CPWSGIServer(('127.0.0.1', 8080)) shut down\n",
      "[04/Mar/2020:23:12:02] ENGINE Stopped thread 'Autoreloader'.\n",
      "[04/Mar/2020:23:12:02] ENGINE Stopped thread '_TimeoutMonitor'.\n",
      "[04/Mar/2020:23:12:02] ENGINE Bus STOPPED\n",
      "[04/Mar/2020:23:12:02] ENGINE Bus EXITING\n",
      "[04/Mar/2020:23:12:02] ENGINE Bus EXITED\n",
      "[04/Mar/2020:23:12:02] ENGINE Waiting for child threads to terminate...\n"
     ]
    }
   ],
   "source": [
    "server=Oauth2.OAuth2Server(CLIENT_ID, CLIENT_SECRET)\n",
    "server.browser_authorize()\n",
    "ACCESS_TOKEN=str(server.fitbit.client.session.token['access_token'])\n",
    "REFRESH_TOKEN=str(server.fitbit.client.session.token['refresh_token'])\n",
    "auth2_client=fitbit.Fitbit(CLIENT_ID,CLIENT_SECRET,oauth2=True,access_token=ACCESS_TOKEN,refresh_token=REFRESH_TOKEN)"
   ]
  },
  {
   "cell_type": "markdown",
   "metadata": {},
   "source": [
    "# Get One Day of Data (Activities / Heart rate)"
   ]
  },
  {
   "cell_type": "markdown",
   "metadata": {},
   "source": [
    "## Today's Heart Data "
   ]
  },
  {
   "cell_type": "code",
   "execution_count": 4,
   "metadata": {},
   "outputs": [],
   "source": [
    "#today = pd.datetime.today().date() # - datetime.timedelta(days=1)\n",
    "#For consistency, today will be the temporary test day\n",
    "today = pd.datetime(year = 2020, month = 2, day = 28)"
   ]
  },
  {
   "cell_type": "code",
   "execution_count": 5,
   "metadata": {},
   "outputs": [
    {
     "data": {
      "text/html": [
       "<div>\n",
       "<style scoped>\n",
       "    .dataframe tbody tr th:only-of-type {\n",
       "        vertical-align: middle;\n",
       "    }\n",
       "\n",
       "    .dataframe tbody tr th {\n",
       "        vertical-align: top;\n",
       "    }\n",
       "\n",
       "    .dataframe thead th {\n",
       "        text-align: right;\n",
       "    }\n",
       "</style>\n",
       "<table border=\"1\" class=\"dataframe\">\n",
       "  <thead>\n",
       "    <tr style=\"text-align: right;\">\n",
       "      <th></th>\n",
       "      <th>time</th>\n",
       "      <th>value</th>\n",
       "    </tr>\n",
       "  </thead>\n",
       "  <tbody>\n",
       "    <tr>\n",
       "      <th>0</th>\n",
       "      <td>09:09:09</td>\n",
       "      <td>70</td>\n",
       "    </tr>\n",
       "    <tr>\n",
       "      <th>1</th>\n",
       "      <td>09:09:24</td>\n",
       "      <td>69</td>\n",
       "    </tr>\n",
       "    <tr>\n",
       "      <th>2</th>\n",
       "      <td>09:09:29</td>\n",
       "      <td>74</td>\n",
       "    </tr>\n",
       "    <tr>\n",
       "      <th>3</th>\n",
       "      <td>09:09:39</td>\n",
       "      <td>75</td>\n",
       "    </tr>\n",
       "    <tr>\n",
       "      <th>4</th>\n",
       "      <td>09:09:44</td>\n",
       "      <td>76</td>\n",
       "    </tr>\n",
       "  </tbody>\n",
       "</table>\n",
       "</div>"
      ],
      "text/plain": [
       "       time  value\n",
       "0  09:09:09     70\n",
       "1  09:09:24     69\n",
       "2  09:09:29     74\n",
       "3  09:09:39     75\n",
       "4  09:09:44     76"
      ]
     },
     "execution_count": 5,
     "metadata": {},
     "output_type": "execute_result"
    }
   ],
   "source": [
    "todayHeartData = auth2_client.intraday_time_series('activities/heart', base_date=today, detail_level='1sec')\n",
    "todayHeartData\n",
    "# putting json data of heart activity into a dataframe\n",
    "heartDf = pd.DataFrame(todayHeartData['activities-heart-intraday']['dataset'])\n",
    "heartDf.head()"
   ]
  },
  {
   "cell_type": "code",
   "execution_count": 7,
   "metadata": {},
   "outputs": [],
   "source": [
    "# The first part gets a date in a string format of YYYY-MM-DD\n",
    "filename = todayHeartData['activities-heart'][0]['dateTime'] +'_intradata'\n",
    "\n",
    "# Export file to csv\n",
    "heartDf.to_csv('res/'+ filename + '.csv', index = False)"
   ]
  },
  {
   "cell_type": "markdown",
   "metadata": {},
   "source": [
    "## Heart Data (Get data for the month)"
   ]
  },
  {
   "cell_type": "code",
   "execution_count": 12,
   "metadata": {},
   "outputs": [],
   "source": [
    "startTime = pd.datetime(year = 2020, month = 1, day = 28)\n",
    "endTime = today \n",
    "date_list = []\n",
    "df_list = []\n",
    "final_df_list = []\n",
    "allDates = pd.date_range(start=startTime, end = endTime)\n",
    "\n",
    "for oneDate in allDates:\n",
    "    oneDate = oneDate.date().strftime(\"%Y-%m-%d\")\n",
    "    oneDayData = auth2_client.intraday_time_series('activities/heart', base_date=oneDate, detail_level='1sec')\n",
    "    \n",
    "    df = pd.DataFrame(oneDayData['activities-heart-intraday']['dataset'])\n",
    "    date_list.append(oneDate)\n",
    "    df_list.append(df)\n",
    "\n",
    "for date, df in zip(date_list, df_list):\n",
    "    if len(df) == 0:\n",
    "        continue\n",
    "    df.loc[:, 'date'] = pd.to_datetime(date)\n",
    "    final_df_list.append(df)\n",
    "final_df = pd.concat(final_df_list, axis = 0)\n"
   ]
  },
  {
   "cell_type": "code",
   "execution_count": 13,
   "metadata": {},
   "outputs": [],
   "source": [
    "## Making of the data have more detailed timestamp (day and hour instead of day)\n",
    "hoursDelta = pd.to_datetime(final_df.loc[:, 'time']).dt.hour.apply(lambda x: datetime.timedelta(hours = x))\n",
    "minutesDelta = pd.to_datetime(final_df.loc[:, 'time']).dt.minute.apply(lambda x: datetime.timedelta(minutes = x))\n",
    "secondsDelta = pd.to_datetime(final_df.loc[:, 'time']).dt.second.apply(lambda x: datetime.timedelta(seconds = x))\n",
    "\n",
    "# Getting the date to also have the time of the day\n",
    "final_df['date'] = final_df['date'] + hoursDelta + minutesDelta + secondsDelta"
   ]
  },
  {
   "cell_type": "code",
   "execution_count": 14,
   "metadata": {},
   "outputs": [
    {
     "data": {
      "text/html": [
       "<div>\n",
       "<style scoped>\n",
       "    .dataframe tbody tr th:only-of-type {\n",
       "        vertical-align: middle;\n",
       "    }\n",
       "\n",
       "    .dataframe tbody tr th {\n",
       "        vertical-align: top;\n",
       "    }\n",
       "\n",
       "    .dataframe thead th {\n",
       "        text-align: right;\n",
       "    }\n",
       "</style>\n",
       "<table border=\"1\" class=\"dataframe\">\n",
       "  <thead>\n",
       "    <tr style=\"text-align: right;\">\n",
       "      <th></th>\n",
       "      <th>time</th>\n",
       "      <th>value</th>\n",
       "      <th>date</th>\n",
       "    </tr>\n",
       "  </thead>\n",
       "  <tbody>\n",
       "    <tr>\n",
       "      <th>0</th>\n",
       "      <td>00:00:00</td>\n",
       "      <td>73</td>\n",
       "      <td>2020-01-28 00:00:00</td>\n",
       "    </tr>\n",
       "    <tr>\n",
       "      <th>1</th>\n",
       "      <td>00:00:05</td>\n",
       "      <td>72</td>\n",
       "      <td>2020-01-28 00:00:05</td>\n",
       "    </tr>\n",
       "    <tr>\n",
       "      <th>2</th>\n",
       "      <td>00:00:10</td>\n",
       "      <td>69</td>\n",
       "      <td>2020-01-28 00:00:10</td>\n",
       "    </tr>\n",
       "    <tr>\n",
       "      <th>3</th>\n",
       "      <td>00:00:15</td>\n",
       "      <td>67</td>\n",
       "      <td>2020-01-28 00:00:15</td>\n",
       "    </tr>\n",
       "    <tr>\n",
       "      <th>4</th>\n",
       "      <td>00:00:20</td>\n",
       "      <td>67</td>\n",
       "      <td>2020-01-28 00:00:20</td>\n",
       "    </tr>\n",
       "  </tbody>\n",
       "</table>\n",
       "</div>"
      ],
      "text/plain": [
       "       time  value                date\n",
       "0  00:00:00     73 2020-01-28 00:00:00\n",
       "1  00:00:05     72 2020-01-28 00:00:05\n",
       "2  00:00:10     69 2020-01-28 00:00:10\n",
       "3  00:00:15     67 2020-01-28 00:00:15\n",
       "4  00:00:20     67 2020-01-28 00:00:20"
      ]
     },
     "execution_count": 14,
     "metadata": {},
     "output_type": "execute_result"
    }
   ],
   "source": [
    "final_df.head()"
   ]
  },
  {
   "cell_type": "code",
   "execution_count": 15,
   "metadata": {},
   "outputs": [],
   "source": [
    "filename = 'all_intradata'\n",
    "final_df.to_csv('res/' + filename + '.csv', index = False)"
   ]
  }
 ],
 "metadata": {
  "kernelspec": {
   "display_name": "Python 3",
   "language": "python",
   "name": "python3"
  },
  "language_info": {
   "codemirror_mode": {
    "name": "ipython",
    "version": 3
   },
   "file_extension": ".py",
   "mimetype": "text/x-python",
   "name": "python",
   "nbconvert_exporter": "python",
   "pygments_lexer": "ipython3",
   "version": "3.7.3"
  }
 },
 "nbformat": 4,
 "nbformat_minor": 2
}

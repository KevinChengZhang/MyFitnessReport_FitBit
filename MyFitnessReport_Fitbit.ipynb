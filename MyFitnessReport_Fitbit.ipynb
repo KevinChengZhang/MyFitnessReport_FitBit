{
 "cells": [
  {
   "cell_type": "markdown",
   "metadata": {},
   "source": [
    "# Imports"
   ]
  },
  {
   "cell_type": "code",
   "execution_count": 1,
   "metadata": {},
   "outputs": [],
   "source": [
    "%matplotlib inline\n",
    "import matplotlib.pyplot as plt\n",
    "import pandas as pd \n",
    "import datetime\n",
    "import plotly.express as px\n",
    "import seaborn as sns\n",
    "\n",
    "import fitbit\n",
    "import gather_keys_oauth2 as Oauth2\n",
    "import MyFitnessReport_Keys as keys\n",
    "\n",
    "CLIENT_ID = keys.client_id\n",
    "CLIENT_SECRET = keys.client_secret"
   ]
  },
  {
   "cell_type": "markdown",
   "metadata": {},
   "source": [
    "# API Authorization "
   ]
  },
  {
   "cell_type": "code",
   "execution_count": 2,
   "metadata": {},
   "outputs": [
    {
     "name": "stderr",
     "output_type": "stream",
     "text": [
      "[30/Apr/2020:15:56:05] ENGINE Listening for SIGTERM.\n",
      "[30/Apr/2020:15:56:05] ENGINE Listening for SIGHUP.\n",
      "[30/Apr/2020:15:56:05] ENGINE Listening for SIGUSR1.\n",
      "[30/Apr/2020:15:56:05] ENGINE Bus STARTING\n",
      "CherryPy Checker:\n",
      "The Application mounted at '' has an empty config.\n",
      "\n",
      "[30/Apr/2020:15:56:05] ENGINE Started monitor thread '_TimeoutMonitor'.\n",
      "[30/Apr/2020:15:56:05] ENGINE Started monitor thread 'Autoreloader'.\n",
      "[30/Apr/2020:15:56:05] ENGINE Serving on http://127.0.0.1:8080\n",
      "[30/Apr/2020:15:56:05] ENGINE Bus STARTED\n"
     ]
    },
    {
     "name": "stdout",
     "output_type": "stream",
     "text": [
      "127.0.0.1 - - [30/Apr/2020:15:56:07] \"GET /?code=020fec3c03958dd368d89d26c3bb401a347d3f67&state=MQWhE35OftGmNz3LS215nM6QIFrv7U HTTP/1.1\" 200 122 \"\" \"Mozilla/5.0 (Macintosh; Intel Mac OS X 10_15_4) AppleWebKit/537.36 (KHTML, like Gecko) Chrome/81.0.4044.122 Safari/537.36\"\n"
     ]
    },
    {
     "name": "stderr",
     "output_type": "stream",
     "text": [
      "[30/Apr/2020:15:56:08] ENGINE Bus STOPPING\n",
      "[30/Apr/2020:15:56:13] ENGINE HTTP Server cherrypy._cpwsgi_server.CPWSGIServer(('127.0.0.1', 8080)) shut down\n",
      "[30/Apr/2020:15:56:13] ENGINE Stopped thread 'Autoreloader'.\n",
      "[30/Apr/2020:15:56:13] ENGINE Stopped thread '_TimeoutMonitor'.\n",
      "[30/Apr/2020:15:56:13] ENGINE Bus STOPPED\n",
      "[30/Apr/2020:15:56:13] ENGINE Bus EXITING\n",
      "[30/Apr/2020:15:56:13] ENGINE Bus EXITED\n",
      "[30/Apr/2020:15:56:13] ENGINE Waiting for child threads to terminate...\n"
     ]
    }
   ],
   "source": [
    "server = Oauth2.OAuth2Server(CLIENT_ID, CLIENT_SECRET)\n",
    "server.browser_authorize()\n",
    "ACCESS_TOKEN = str(server.fitbit.client.session.token['access_token'])\n",
    "REFRESH_TOKEN = str(server.fitbit.client.session.token['refresh_token'])\n",
    "auth2_client = fitbit.Fitbit(CLIENT_ID, \n",
    "                             CLIENT_SECRET,\n",
    "                             oauth2 = True,\n",
    "                             access_token = ACCESS_TOKEN,\n",
    "                             refresh_token = REFRESH_TOKEN)"
   ]
  },
  {
   "cell_type": "markdown",
   "metadata": {},
   "source": [
    "# Get Data (Activities / Heart rate)"
   ]
  },
  {
   "cell_type": "markdown",
   "metadata": {},
   "source": [
    "## A Given Days Data"
   ]
  },
  {
   "cell_type": "code",
   "execution_count": 3,
   "metadata": {},
   "outputs": [],
   "source": [
    "# Gets the intraday data from a given year, month, day\n",
    "def intraday_heart(year = pd.datetime.now().year, month = pd.datetime.now().month, day = pd.datetime.now().day):\n",
    "    try:\n",
    "        date = pd.datetime(year = year, month = month, day = day)\n",
    "        data = auth2_client.intraday_time_series('activities/heart', base_date = date, detail_level = '1sec')\n",
    "        intra_df = pd.DataFrame(data['activities-heart-intraday']['dataset'])\n",
    "        \n",
    "        filename = data['activities-heart'][0]['dateTime']\n",
    "        intra_df.to_csv('res/' + filename + '.csv', index = False)\n",
    "        return intra_df.head()\n",
    "    \n",
    "    except ValueError:\n",
    "        print(\"VALUE ERROR: Check date ( YEAR / MONTH / DAY )\")"
   ]
  },
  {
   "cell_type": "code",
   "execution_count": 4,
   "metadata": {},
   "outputs": [
    {
     "data": {
      "text/html": [
       "<div>\n",
       "<style scoped>\n",
       "    .dataframe tbody tr th:only-of-type {\n",
       "        vertical-align: middle;\n",
       "    }\n",
       "\n",
       "    .dataframe tbody tr th {\n",
       "        vertical-align: top;\n",
       "    }\n",
       "\n",
       "    .dataframe thead th {\n",
       "        text-align: right;\n",
       "    }\n",
       "</style>\n",
       "<table border=\"1\" class=\"dataframe\">\n",
       "  <thead>\n",
       "    <tr style=\"text-align: right;\">\n",
       "      <th></th>\n",
       "      <th>time</th>\n",
       "      <th>value</th>\n",
       "    </tr>\n",
       "  </thead>\n",
       "  <tbody>\n",
       "    <tr>\n",
       "      <th>0</th>\n",
       "      <td>00:00:07</td>\n",
       "      <td>67</td>\n",
       "    </tr>\n",
       "    <tr>\n",
       "      <th>1</th>\n",
       "      <td>00:00:12</td>\n",
       "      <td>68</td>\n",
       "    </tr>\n",
       "    <tr>\n",
       "      <th>2</th>\n",
       "      <td>00:00:17</td>\n",
       "      <td>68</td>\n",
       "    </tr>\n",
       "    <tr>\n",
       "      <th>3</th>\n",
       "      <td>00:00:32</td>\n",
       "      <td>69</td>\n",
       "    </tr>\n",
       "    <tr>\n",
       "      <th>4</th>\n",
       "      <td>00:00:37</td>\n",
       "      <td>70</td>\n",
       "    </tr>\n",
       "  </tbody>\n",
       "</table>\n",
       "</div>"
      ],
      "text/plain": [
       "       time  value\n",
       "0  00:00:07     67\n",
       "1  00:00:12     68\n",
       "2  00:00:17     68\n",
       "3  00:00:32     69\n",
       "4  00:00:37     70"
      ]
     },
     "execution_count": 4,
     "metadata": {},
     "output_type": "execute_result"
    }
   ],
   "source": [
    "intraday_heart(2020, 3, 5)"
   ]
  },
  {
   "cell_type": "code",
   "execution_count": 14,
   "metadata": {},
   "outputs": [
    {
     "data": {
      "text/plain": [
       "Text(0.5, 1.0, 'Mar 5th 2020 intradata')"
      ]
     },
     "execution_count": 14,
     "metadata": {},
     "output_type": "execute_result"
    },
    {
     "data": {
      "image/png": "[encoded data removed]",
      "text/plain": [
       "<Figure size 432x288 with 1 Axes>"
      ]
     },
     "metadata": {
      "needs_background": "light"
     },
     "output_type": "display_data"
    }
   ],
   "source": [
    "one_day_df = pd.read_csv(\"res/2020-03-05.csv\")\n",
    "\n",
    "# create and display the line plot\n",
    "# one_day_graph = sns.lineplot(x=one_day_time, y=one_day_value)\n",
    "# one_day_title = \"Change in heartrate on March 5th 2020\"\n",
    "# one_day_graph.set_title(one_day_title, size = 16) \n",
    "# one_day_graph.set_xlabel(\"Time\", size = 16)\n",
    "# one_day_graph.set_ylabel(\"Heartrate\", size = 16)\n",
    "\n",
    "one_day_df.plot('time', 'value')\n",
    "plt.legend('')\n",
    "plt.title(\"Mar 5th 2020 intradata\")"
   ]
  },
  {
   "cell_type": "markdown",
   "metadata": {},
   "source": [
    "## A Given Range of Days Data"
   ]
  },
  {
   "cell_type": "code",
   "execution_count": 77,
   "metadata": {},
   "outputs": [],
   "source": [
    "# Get the intraday heart data between a given start and end date\n",
    "def intraday_heart_range(start_year, start_month, start_day, end_year = pd.datetime.now().year, \n",
    "                         end_month = pd.datetime.now().month, end_day = pd.datetime.now().day): \n",
    "    date_list = []\n",
    "    df_list = []\n",
    "    final_df_list = []\n",
    "    \n",
    "    try:\n",
    "        start_time = pd.datetime(year = start_year, month = start_month, day = start_day)\n",
    "        end_time = pd.datetime(year = end_year, month = end_month, day = end_day)\n",
    "        all_dates = pd.date_range(start = start_time, end = end_time)\n",
    "        \n",
    "        for one_date in all_dates:\n",
    "            one_date = one_date.date().strftime(\"%Y-%m-%d\")\n",
    "            data = auth2_client.intraday_time_series(\n",
    "                'activities/heart', base_date = one_date, detail_level = '1sec')\n",
    "            \n",
    "            df = pd.DataFrame(data['activities-heart-intraday']['dataset'])\n",
    "            date_list.append(one_date)\n",
    "            df_list.append(df)\n",
    "            \n",
    "        for date, df in zip(date_list, df_list):\n",
    "            if len(df) == 0:\n",
    "                continue\n",
    "            \n",
    "            df.loc[:, 'date'] = pd.to_datetime(date)\n",
    "            final_df_list.append(df)\n",
    "            \n",
    "        final_df = pd.concat(final_df_list, axis = 0)  \n",
    "        hoursDelta = pd.to_datetime(final_df.loc[:, 'time']) \\\n",
    "                        .dt.hour.apply(lambda x: datetime.timedelta(hours = x))\n",
    "        minutesDelta = pd.to_datetime(final_df.loc[:, 'time']) \\\n",
    "                        .dt.minute.apply(lambda x: datetime.timedelta(minutes = x))\n",
    "        secondsDelta = pd.to_datetime(final_df.loc[:, 'time']) \\\n",
    "                        .dt.second.apply(lambda x: datetime.timedelta(seconds = x))\n",
    "        \n",
    "        final_df['date'] = final_df['date'] + hoursDelta + minutesDelta + secondsDelta\n",
    "        \n",
    "        filename = str(start_year) + \"_\" + str(start_month) + \"_\" + str(start_day) \\\n",
    "                    + \"_\" + str(end_year) + \"_\" + str(end_month) + \"_\" + str(end_day) \n",
    "        \n",
    "        final_df.to_csv('res/' + filename + '.csv', index = False)\n",
    "        \n",
    "        return final_df.head()\n",
    "\n",
    "    except ValueError:\n",
    "        print(\"VALUE ERROR: Check date ( YEAR / MONTH / DAY )\")"
   ]
  },
  {
   "cell_type": "code",
   "execution_count": 38,
   "metadata": {},
   "outputs": [
    {
     "data": {
      "text/html": [
       "<div>\n",
       "<style scoped>\n",
       "    .dataframe tbody tr th:only-of-type {\n",
       "        vertical-align: middle;\n",
       "    }\n",
       "\n",
       "    .dataframe tbody tr th {\n",
       "        vertical-align: top;\n",
       "    }\n",
       "\n",
       "    .dataframe thead th {\n",
       "        text-align: right;\n",
       "    }\n",
       "</style>\n",
       "<table border=\"1\" class=\"dataframe\">\n",
       "  <thead>\n",
       "    <tr style=\"text-align: right;\">\n",
       "      <th></th>\n",
       "      <th>time</th>\n",
       "      <th>value</th>\n",
       "      <th>date</th>\n",
       "    </tr>\n",
       "  </thead>\n",
       "  <tbody>\n",
       "    <tr>\n",
       "      <th>0</th>\n",
       "      <td>00:00:00</td>\n",
       "      <td>61</td>\n",
       "      <td>2020-02-06 00:00:00</td>\n",
       "    </tr>\n",
       "    <tr>\n",
       "      <th>1</th>\n",
       "      <td>00:00:05</td>\n",
       "      <td>62</td>\n",
       "      <td>2020-02-06 00:00:05</td>\n",
       "    </tr>\n",
       "    <tr>\n",
       "      <th>2</th>\n",
       "      <td>00:00:10</td>\n",
       "      <td>61</td>\n",
       "      <td>2020-02-06 00:00:10</td>\n",
       "    </tr>\n",
       "    <tr>\n",
       "      <th>3</th>\n",
       "      <td>00:00:15</td>\n",
       "      <td>63</td>\n",
       "      <td>2020-02-06 00:00:15</td>\n",
       "    </tr>\n",
       "    <tr>\n",
       "      <th>4</th>\n",
       "      <td>00:00:20</td>\n",
       "      <td>65</td>\n",
       "      <td>2020-02-06 00:00:20</td>\n",
       "    </tr>\n",
       "  </tbody>\n",
       "</table>\n",
       "</div>"
      ],
      "text/plain": [
       "       time  value                date\n",
       "0  00:00:00     61 2020-02-06 00:00:00\n",
       "1  00:00:05     62 2020-02-06 00:00:05\n",
       "2  00:00:10     61 2020-02-06 00:00:10\n",
       "3  00:00:15     63 2020-02-06 00:00:15\n",
       "4  00:00:20     65 2020-02-06 00:00:20"
      ]
     },
     "execution_count": 38,
     "metadata": {},
     "output_type": "execute_result"
    }
   ],
   "source": [
    "intraday_heart_range(2020, 2, 6)"
   ]
  },
  {
   "cell_type": "markdown",
   "metadata": {},
   "source": [
    "### Data Visualizations for intradata"
   ]
  },
  {
   "cell_type": "code",
   "execution_count": 55,
   "metadata": {},
   "outputs": [],
   "source": [
    "df = pd.read_csv(\"res/intradata_2020_2_6_2020_3_6.csv\")\n",
    "time = df[\"time\"]\n",
    "value = df[\"value\"]\n",
    "date = df[\"date\"]\n",
    "\n",
    "# To-do: Figure out what relationships you want to see for intradata\n",
    "# - What times of the day does my heartrate usually spike --> compare with schedule... am I speed walking to class? xD\n"
   ]
  },
  {
   "cell_type": "markdown",
   "metadata": {},
   "source": [
    "# Get Data (Resting HR)\n"
   ]
  },
  {
   "cell_type": "code",
   "execution_count": 75,
   "metadata": {},
   "outputs": [],
   "source": [
    "def resting_hr(start_year, start_month, start_day, end_year = pd.datetime.now().year, \n",
    "               end_month = pd.datetime.now().month, end_day = pd.datetime.now().day): \n",
    "    resting_list = []\n",
    "    date_list = []\n",
    "    final_df_list = []\n",
    "    \n",
    "    try: \n",
    "        start = pd.datetime(year = start_year, month = start_month, day = start_day)\n",
    "        end = pd.datetime(year = end_year, month = end_month, day = end_day)\n",
    "        dates = pd.date_range(start = start, end = end)\n",
    "        \n",
    "        for one_date in dates:\n",
    "            one_date = one_date.date().strftime(\"%Y-%m-%d\")\n",
    "            data = auth2_client.intraday_time_series('activities/heart', base_date = one_date, detail_level = '1sec')\n",
    "            date_list.append(one_date)\n",
    "            resting_list.append(data['activities-heart'][0]['value']['restingHeartRate'])\n",
    "            \n",
    "        print(\"Data Collection complete\")\n",
    "        \n",
    "    except ValueError:\n",
    "        print(\"VALUE ERROR: Check date ( YEAR / MONTH / DAY )\")  "
   ]
  },
  {
   "cell_type": "code",
   "execution_count": 76,
   "metadata": {},
   "outputs": [
    {
     "name": "stdout",
     "output_type": "stream",
     "text": [
      "Data Collection complete\n"
     ]
    }
   ],
   "source": [
    "resting_hr(2020, 2, 6)"
   ]
  },
  {
   "cell_type": "markdown",
   "metadata": {},
   "source": []
  }
 ],
 "metadata": {
  "kernelspec": {
   "display_name": "Python 3",
   "language": "python",
   "name": "python3"
  },
  "language_info": {
   "codemirror_mode": {
    "name": "ipython",
    "version": 3
   },
   "file_extension": ".py",
   "mimetype": "text/x-python",
   "name": "python",
   "nbconvert_exporter": "python",
   "pygments_lexer": "ipython3",
   "version": "3.7.3"
  }
 },
 "nbformat": 4,
 "nbformat_minor": 2
}
